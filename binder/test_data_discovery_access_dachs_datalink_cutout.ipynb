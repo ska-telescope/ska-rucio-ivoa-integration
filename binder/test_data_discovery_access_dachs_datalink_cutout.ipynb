{
 "cells": [
  {
   "cell_type": "markdown",
   "id": "ed0eb8a7-bcf6-4c10-9691-480cd11ad7fd",
   "metadata": {},
   "source": [
    "# Test discovery and data access using DaCHS and a standalone Datalink service"
   ]
  },
  {
   "cell_type": "markdown",
   "metadata": {
    "collapsed": false
   },
   "source": [
    "## Description\n",
    "\n",
    "This notebook illustrates example data discovery via an IVOA simple cone search (SCS) [1] and subsequent SODA processing (cutout) using real data in datalake.\n",
    "\n",
    "As part of the discovery process, an `access_url` pointing to an IVOA Datalink service [2] is used to reveal physical data locations to the client. This datalink service talks to Rucio via its api, and in its default mode (`nearest_by_client`) gets the nearest replica location by calculating the shortest available great circle distance between the geolocated client's ip and the sites holding replicas. Alternatively, it is possible to get a random replica by adding the query parameter `sort=random` to the datalink query url.\n",
    "\n",
    "Site information (lat/long) is retrieved by calls to a [site-directory](https://gitlab.com/ska-telescope/src/src-site-directory/-/tree/main/src/site_directory) api.\n",
    "\n",
    "[1] [https://www.ivoa.net/documents/latest/ConeSearch.html](https://www.ivoa.net/documents/latest/ConeSearch.html)\n",
    "[2] [https://www.ivoa.net/documents/DataLink/](https://www.ivoa.net/documents/latest/ConeSearch.html)"
   ]
  },
  {
   "cell_type": "markdown",
   "metadata": {
    "collapsed": false
   },
   "source": [
    "## Prerequisites\n",
    "\n",
    "1. It is assumed that the entry to search for has already had a corresponding record added into the Rucio metadata database. This entry must have valid `s_ra`, `s_dec` and `access_url` fields in the JSON data column, where the `access_url` points to a datalink resource with the did as the `id` parameter, e.g. `https://ivoa.datalink.srcdev.skao.int/rucio/links?id=testing:PTF10tce.fits`. Note that the datalink service uri must be resolvable from the machine that is making the query. If using this prototype, this is probably a jupyter instance running inside another container on the same docker network, in which case it must be the container name. If running a separate jupyter instance from outside the docker network, the datalink service must be made externally accessible (unless running from the host of the docker network, in which case you can expose the datalink port & use `localhost`).\n",
    "\n",
    "2. An instance of site-directory must be running in order to use the datalink service in `nearest_by_client` mode.\n",
    "3. The user must have a valid account on the Rucio datalake.\n",
    "4. There must be a SODA service colocated with the RSE and a corresponding entry in site-directory for the site.\n",
    "\n"
   ]
  },
  {
   "cell_type": "markdown",
   "id": "e408f8ad-1b0e-419c-9935-e3d603ba38d3",
   "metadata": {},
   "source": [
    "## Query a DaCHS SCS service around some coordinates"
   ]
  },
  {
   "cell_type": "code",
   "execution_count": 105,
   "id": "ed9629f6-7059-4ec2-af3d-b7ce53cd8d34",
   "metadata": {
    "tags": []
   },
   "outputs": [
    {
     "data": {
      "text/plain": "<Table length=3>\n          _r          ...               access_format               \n         deg          ...                                           \n       float64        ...                   object                  \n--------------------- ... ------------------------------------------\n0.0006540356412499768 ... application/x-votable+xml;content=datalink\n0.0006540356412499768 ... application/x-votable+xml;content=datalink\n   0.5700196618808213 ... application/x-votable+xml;content=datalink",
      "text/html": "<div><i>Table length=3</i>\n<table id=\"table140567137217072\" class=\"table-striped table-bordered table-condensed\">\n<thead><tr><th>_r</th><th>obs_id</th><th>s_ra</th><th>s_dec</th><th>access_url</th><th>access_format</th></tr></thead>\n<thead><tr><th>deg</th><th></th><th>deg</th><th>deg</th><th></th><th></th></tr></thead>\n<thead><tr><th>float64</th><th>object</th><th>float64</th><th>float64</th><th>object</th><th>object</th></tr></thead>\n<tr><td>0.0006540356412499768</td><td>Eridanus_cutout_NGC1436</td><td>53.75308</td><td>-24.93365</td><td>https://ivoa.datalink.srcdev.skao.int/rucio/links?id=sp3531_soda:2023-07-18-16-40-27_ASK-WALLABY_Eridanus_cutout-574594-imagecube-42178.fits</td><td>application/x-votable+xml;content=datalink</td></tr>\n<tr><td>0.0006540356412499768</td><td>Eridanus_full_image</td><td>53.75308</td><td>-24.93365</td><td>https://ivoa.datalink.srcdev.skao.int/rucio/links?id=orange:2023-\\n07-10-17-21-37_cutout-574594-imagecube-42178.fits</td><td>application/x-votable+xml;content=datalink</td></tr>\n<tr><td>0.5700196618808213</td><td>RACS-DR1_0337-25A</td><td>54.340616250000004</td><td>-25.136623999999998</td><td>https://ivoa.datalink.srcdev.skao.int/rucio/links?id=testing_ingest_180723:001_RACS-DR1_0337-25A</td><td>application/x-votable+xml;content=datalink</td></tr>\n</table></div>"
     },
     "execution_count": 105,
     "metadata": {},
     "output_type": "execute_result"
    }
   ],
   "source": [
    "from pyvo.dal import conesearch\n",
    "\n",
    "results = conesearch(\"https://ivoa.dachs.srcdev.skao.int/rucio/rucio/cone/scs.xml\", pos=(53.753, -24.933), radius=1)\n",
    "results.to_table()['_r', 'obs_id', 's_ra', 's_dec', 'access_url', 'access_format']"
   ]
  },
  {
   "cell_type": "markdown",
   "id": "04c4002f-e467-4b96-ae0b-77445c513f95",
   "metadata": {},
   "source": [
    "## Get an access url from the Datalink resource\n",
    "\n",
    "This datalink resource retrieves the list of possible replicas for this DID using Rucio's REST interface, and returns the nearest replica to the client's geolocated IP address."
   ]
  },
  {
   "cell_type": "code",
   "execution_count": 106,
   "id": "9e58370a-1021-4007-9c98-e1b3ac9e263b",
   "metadata": {},
   "outputs": [
    {
     "data": {
      "text/plain": "<Table length=3>\n                                                                ID                                                                 ...\n                                                                                                                                   ...\n                                                              object                                                               ...\n---------------------------------------------------------------------------------------------------------------------------------- ...\nivo://auth.example.org/datasets/fits?sp3531_soda/9b/98/2023-07-18-16-40-27_ASK-WALLABY_Eridanus_cutout-574594-imagecube-42178.fits ...\nivo://auth.example.org/datasets/fits?sp3531_soda/9b/98/2023-07-18-16-40-27_ASK-WALLABY_Eridanus_cutout-574594-imagecube-42178.fits ...\nivo://auth.example.org/datasets/fits?sp3531_soda/9b/98/2023-07-18-16-40-27_ASK-WALLABY_Eridanus_cutout-574594-imagecube-42178.fits ...",
      "text/html": "<div><i>Table length=3</i>\n<table id=\"table140567137132800\" class=\"table-striped table-bordered table-condensed\">\n<thead><tr><th>ID</th><th>access_url</th><th>service_def</th><th>error_message</th><th>semantics</th><th>description</th><th>content_type</th><th>content_length</th><th>content_qualifier</th></tr></thead>\n<thead><tr><th></th><th></th><th></th><th></th><th></th><th></th><th></th><th>byte</th><th></th></tr></thead>\n<thead><tr><th>object</th><th>object</th><th>object</th><th>object</th><th>object</th><th>object</th><th>object</th><th>int64</th><th>object</th></tr></thead>\n<tr><td>ivo://auth.example.org/datasets/fits?sp3531_soda/9b/98/2023-07-18-16-40-27_ASK-WALLABY_Eridanus_cutout-574594-imagecube-42178.fits</td><td>https://spsrc14.iaa.csic.es:18027/disk/dev/deterministic/sp3531_soda/9b/98/2023-07-18-16-40-27_ASK-WALLABY_Eridanus_cutout-574594-imagecube-42178.fits</td><td></td><td></td><td>#this</td><td>Eridanus_cutout_NGC1436</td><td></td><td>--</td><td></td></tr>\n<tr><td>ivo://auth.example.org/datasets/fits?sp3531_soda/9b/98/2023-07-18-16-40-27_ASK-WALLABY_Eridanus_cutout-574594-imagecube-42178.fits</td><td></td><td>soda-sync</td><td></td><td>#cutout</td><td>SODA-sync cutout of ivo://auth.example.org/datasets/fits?sp3531_soda/9b/98/2023-07-18-16-40-27_ASK-WALLABY_Eridanus_cutout-574594-imagecube-42178.fits</td><td></td><td>--</td><td></td></tr>\n<tr><td>ivo://auth.example.org/datasets/fits?sp3531_soda/9b/98/2023-07-18-16-40-27_ASK-WALLABY_Eridanus_cutout-574594-imagecube-42178.fits</td><td></td><td>soda-async</td><td></td><td>#cutout</td><td>SODA-async cutout of ivo://auth.example.org/datasets/fits?sp3531_soda/9b/98/2023-07-18-16-40-27_ASK-WALLABY_Eridanus_cutout-574594-imagecube-42178.fits</td><td></td><td>--</td><td></td></tr>\n</table></div>"
     },
     "execution_count": 106,
     "metadata": {},
     "output_type": "execute_result"
    }
   ],
   "source": [
    "import requests\n",
    "\n",
    "from pyvo.dal.adhoc import DatalinkResults\n",
    "\n",
    "# use first result\n",
    "result = results[0]\n",
    "\n",
    "# get the datalink access url for this first result\n",
    "datalink_access_url = result['access_url']\n",
    "\n",
    "did = datalink_access_url.split('id=')[1]\n",
    "scope, name = did.split(':')\n",
    "\n",
    "# go get the information from the datalink service (we explicitly state a client IP address, otherwise it tries to resolve localhost)\n",
    "# and enforce that a SODA service must exist at the site hosting the replica\n",
    "datalink = DatalinkResults.from_result_url(\"{}&client_ip_address=130.246.210.120&must_include_soda=True\".format(datalink_access_url))\n",
    "\n",
    "datalink.to_table()"
   ]
  },
  {
   "cell_type": "markdown",
   "id": "e4ebffe1-7dd3-408d-993f-023733e9078e",
   "metadata": {},
   "source": [
    "## Access the data\n",
    "\n",
    "In this case, we make a GET request to the SODA cutout service with the ID and CIRCLE parameters. The SODA service has direct access to storage via a mount point."
   ]
  },
  {
   "cell_type": "code",
   "execution_count": 113,
   "id": "68382c69-25d7-4121-bd15-8af093a7b4f1",
   "metadata": {},
   "outputs": [
    {
     "name": "stdout",
     "output_type": "stream",
     "text": [
      "Access url:\thttp://spsrc33.iaa.csic.es:18022/soda\n",
      "ID:\tivo://auth.example.org/datasets/fits?sp3531_soda/9b/98/2023-07-18-16-40-27_ASK-WALLABY_Eridanus_cutout-574594-imagecube-42178.fits\n",
      "101916KB downloaded\r\n",
      "\n",
      "Filename: 2023-07-18-16-40-27_ASK-WALLABY_Eridanus_cutout-574594-imagecube-42178.fits\n",
      "No.    Name      Ver    Type      Cards   Dimensions   Format\n",
      "  0  PRIMARY       1 PrimaryHDU      74   (55, 61, 1, 7776)   float32   \n"
     ]
    },
    {
     "data": {
      "text/plain": "<Figure size 432x288 with 2 Axes>",
      "image/png": "[encoded data removed]"
     },
     "metadata": {
      "needs_background": "light"
     },
     "output_type": "display_data"
    }
   ],
   "source": [
    "import os\n",
    "\n",
    "from astropy.io import fits\n",
    "import pylab as plt\n",
    "from matplotlib.colors import LogNorm\n",
    "\n",
    "# take the datalink link with semantic \"#cutout\n",
    "datalink_proc = next(datalink.bysemantics('#cutout'))\n",
    "\n",
    "# get the SODA access url and ivoid required by SODA from this link\n",
    "access_url = datalink_proc.access_url\n",
    "ivoid = datalink_proc.id\n",
    "\n",
    "print(\"Access url:\\t{}\".format(access_url))\n",
    "print(\"ID:\\t{}\".format(ivoid))\n",
    "\n",
    "# get the SODA response\n",
    "#response = SodaQuery(datalink_proc.access_url, id=datalink_proc.id, circle=(53.753, -24.933, 0.1))    # doesn't formulate query parameter correctly\n",
    "response = requests.get(\"{}?ID={}&CIRCLE={}\".format(access_url, ivoid, \"53.753 -24.933 0.1\", stream=True))\n",
    "if response.status_code == 200:\n",
    "    with open(name, \"wb\") as f:\n",
    "        for chunk in response.iter_content(chunk_size=1024):\n",
    "            print(\"{}KB downloaded\".format(round(os.path.getsize(name)/1024), 0), end='\\r')\n",
    "            f.write(chunk)\n",
    "            f.flush()\n",
    "    print('\\n')\n",
    "\n",
    "    fits.info(name)\n",
    "\n",
    "    image_data = fits.getdata(name, ext=0)\n",
    "\n",
    "    plt.figure()\n",
    "    plt.imshow(image_data[100,0,::], cmap='gray')\n",
    "    plt.colorbar()\n",
    "    plt.show()\n",
    "else:\n",
    "    print(\"error getting data: {}\".format(response.status_code))\n",
    "\n"
   ]
  }
 ],
 "metadata": {
  "kernelspec": {
   "display_name": "Python 3 (ipykernel)",
   "language": "python",
   "name": "python3"
  },
  "language_info": {
   "codemirror_mode": {
    "name": "ipython",
    "version": 3
   },
   "file_extension": ".py",
   "mimetype": "text/x-python",
   "name": "python",
   "nbconvert_exporter": "python",
   "pygments_lexer": "ipython3",
   "version": "3.10.6"
  }
 },
 "nbformat": 4,
 "nbformat_minor": 5
}
