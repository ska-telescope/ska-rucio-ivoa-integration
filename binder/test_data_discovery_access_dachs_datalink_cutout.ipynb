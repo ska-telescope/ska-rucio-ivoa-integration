{
 "cells": [
  {
   "cell_type": "markdown",
   "id": "ed0eb8a7-bcf6-4c10-9691-480cd11ad7fd",
   "metadata": {},
   "source": [
    "# Test discovery and data access using DaCHS and a standalone Datalink service"
   ]
  },
  {
   "cell_type": "markdown",
   "metadata": {
    "collapsed": false
   },
   "source": [
    "## Description\n",
    "\n",
    "This notebook illustrates example data discovery via an IVOA simple cone search (SCS) [1] through to OIDC authentication and SODA processing (cutout) using real data in datalake.\n",
    "\n",
    "As part of the discovery process, an `access_url` pointing to an IVOA Datalink service [2] is used to reveal physical data locations to the client. This datalink service talks to Rucio via its api, and in its default mode (`nearest_by_client`) gets the nearest replica location by calculating the shortest available great circle distance between the geolocated client's ip and the sites holding replicas. Alternatively, it is possible to get a random replica by adding the query parameter `sort=random` to the datalink query url.\n",
    "\n",
    "Site information (lat/long) is retrieved by calls to a [site-directory](https://gitlab.com/ska-telescope/src/src-site-directory/-/tree/main/src/site_directory) api.\n",
    "\n",
    "[1] [https://www.ivoa.net/documents/latest/ConeSearch.html](https://www.ivoa.net/documents/latest/ConeSearch.html)\n",
    "[2] [https://www.ivoa.net/documents/DataLink/](https://www.ivoa.net/documents/latest/ConeSearch.html)"
   ]
  },
  {
   "cell_type": "markdown",
   "metadata": {
    "collapsed": false
   },
   "source": [
    "## Prerequisites\n",
    "\n",
    "1. It is assumed that the entry to search for has already had a corresponding record added into the Rucio metadata database. This entry must have valid `s_ra`, `s_dec` and `access_url` fields in the JSON data column, where the `access_url` points to a datalink resource with the did as the `id` parameter, e.g. `http://rucio_datalink:10000/links?id=testing:PTF10tce.fits`. Note that the datalink service uri must be resolvable from the machine that is making the query. If using this prototype, this is probably a jupyter instance running inside another container on the same docker network, in which case it must be the container name. If running a separate jupyter instance from outside the docker network, the datalink service must be made externally accessible (unless running from the host of the docker network, in which case you can expose the datalink port & use `localhost`).\n",
    "\n",
    "2. An instance of site-directory must be running in order to use the datalink service in `nearest_by_client` mode.\n",
    "3. The user must have a valid account on the Rucio datalake.\n",
    "4. There must be a SODA service entry in site-directory for the RSE hosting the data.\n",
    "\n"
   ]
  },
  {
   "cell_type": "markdown",
   "id": "e408f8ad-1b0e-419c-9935-e3d603ba38d3",
   "metadata": {},
   "source": [
    "## Query a DaCHS SCS service around some coordinates"
   ]
  },
  {
   "cell_type": "code",
   "execution_count": 8,
   "id": "ed9629f6-7059-4ec2-af3d-b7ce53cd8d34",
   "metadata": {
    "tags": []
   },
   "outputs": [
    {
     "data": {
      "text/plain": "<Table length=2>\n   _r          obs_id       ...               access_format               \n  deg                       ...                                           \nfloat64        object       ...                   object                  \n------- ------------------- ... ------------------------------------------\n    0.0 Eridanus_full_image ... application/x-votable+xml;content=datalink\n    0.0 Eridanus_full_image ... application/x-votable+xml;content=datalink",
      "text/html": "<div><i>Table length=2</i>\n<table id=\"table140015410906592\" class=\"table-striped table-bordered table-condensed\">\n<thead><tr><th>_r</th><th>obs_id</th><th>s_ra</th><th>s_dec</th><th>access_url</th><th>access_format</th></tr></thead>\n<thead><tr><th>deg</th><th></th><th>deg</th><th>deg</th><th></th><th></th></tr></thead>\n<thead><tr><th>float64</th><th>object</th><th>float64</th><th>float64</th><th>object</th><th>object</th></tr></thead>\n<tr><td>0.0</td><td>Eridanus_full_image</td><td>53.75308</td><td>-24.93365</td><td>https://ivoa.datalink.srcdev.skao.int/rucio/links?id=sp3531_soda:2023-07-18-16-40-27_ASK-WALLABY_Eridanus_cutout-574594-imagecube-42178.fits</td><td>application/x-votable+xml;content=datalink</td></tr>\n<tr><td>0.0</td><td>Eridanus_full_image</td><td>53.75308</td><td>-24.93365</td><td>https://ivoa.datalink.srcdev.skao.int/rucio/links?id=orange:2023-\\n07-10-17-21-37_cutout-574594-imagecube-42178.fits</td><td>application/x-votable+xml;content=datalink</td></tr>\n</table></div>"
     },
     "execution_count": 8,
     "metadata": {},
     "output_type": "execute_result"
    }
   ],
   "source": [
    "from pyvo.dal import conesearch\n",
    "\n",
    "# PTF10tce (ra: 349.791, dec: 9.196)\n",
    "results = conesearch(\"https://ivoa.dachs.srcdev.skao.int/rucio/rucio/cone/scs.xml\", pos=(53.75308, -24.93365), radius=1)\n",
    "results.to_table()['_r', 'obs_id', 's_ra', 's_dec', 'access_url', 'access_format']"
   ]
  },
  {
   "cell_type": "markdown",
   "id": "04c4002f-e467-4b96-ae0b-77445c513f95",
   "metadata": {},
   "source": [
    "## Get an access url from the Datalink resource\n",
    "\n",
    "This datalink resource retrieves the list of possible replicas for this DID using Rucio's REST interface, and returns the nearest replica to the client's geolocated IP address."
   ]
  },
  {
   "cell_type": "code",
   "execution_count": 10,
   "id": "9e58370a-1021-4007-9c98-e1b3ac9e263b",
   "metadata": {},
   "outputs": [
    {
     "name": "stdout",
     "output_type": "stream",
     "text": [
      "https://spsrc14.iaa.csic.es:18027/disk/dev/deterministic/sp3531_soda/9b/98/2023-07-18-16-40-27_ASK-WALLABY_Eridanus_cutout-574594-imagecube-42178.fits\n"
     ]
    }
   ],
   "source": [
    "from pyvo.dal.adhoc import DatalinkResults\n",
    "\n",
    "# use first result\n",
    "result = results[0]\n",
    "\n",
    "# get the datalink access url for this first result\n",
    "datalink_access_url = result['access_url']\n",
    "\n",
    "# go get the information from the datalink service (we explicitly state a client IP address, otherwise it tries to resolve localhost)\n",
    "# and enforce that a SODA service must exist at the site hosting the replica\n",
    "datalink = DatalinkResults.from_result_url(\"{}&client_ip_address=130.246.210.120&must_include_soda=True\".format(datalink_access_url))\n",
    "\n",
    "# take the link with semantic \"#this\"\n",
    "this = next(datalink.bysemantics(\"#this\"))\n",
    "\n",
    "# get the physical file path (on storage) from this link\n",
    "access_url = this.access_url\n",
    "\n",
    "# get the did from the datalink access url\n",
    "did = datalink_access_url.split('?id=')[1].split('&')[0]\n",
    "\n",
    "scope, name = did.split(':')\n",
    "\n",
    "print(access_url)\n",
    "\n"
   ]
  },
  {
   "cell_type": "markdown",
   "id": "982e62ba-772d-4e81-b42b-3bcb877d01e7",
   "metadata": {},
   "source": [
    "## Get an access token for the Rucio \"auth\" OIDC client\n",
    "\n",
    "This process follows an interactive OIDC `authorization_code` flow. The resulting token will be used to directly contact the storage endpoint."
   ]
  },
  {
   "cell_type": "code",
   "execution_count": 21,
   "id": "1796602c-71f9-47b7-a67a-4e8b15631c3e",
   "metadata": {},
   "outputs": [
    {
     "name": "stdout",
     "output_type": "stream",
     "text": [
      "Please go to https://rucio.srcdev.skao.int/auth/oidc_redirect?mYEpgscqEPqL2VooE37dYNk, authenticate and paste the authorisation code below:\n"
     ]
    },
    {
     "ename": "KeyError",
     "evalue": "'x-rucio-auth-token'",
     "output_type": "error",
     "traceback": [
      "\u001B[0;31m---------------------------------------------------------------------------\u001B[0m",
      "\u001B[0;31mKeyError\u001B[0m                                  Traceback (most recent call last)",
      "\u001B[0;32m/tmp/ipykernel_65406/2593554446.py\u001B[0m in \u001B[0;36m<module>\u001B[0;34m\u001B[0m\n\u001B[1;32m      6\u001B[0m \u001B[0mauth_code\u001B[0m \u001B[0;34m=\u001B[0m \u001B[0minput\u001B[0m\u001B[0;34m(\u001B[0m\u001B[0;34m)\u001B[0m\u001B[0;34m\u001B[0m\u001B[0;34m\u001B[0m\u001B[0m\n\u001B[1;32m      7\u001B[0m \u001B[0mresponse\u001B[0m \u001B[0;34m=\u001B[0m \u001B[0mrequests\u001B[0m\u001B[0;34m.\u001B[0m\u001B[0mget\u001B[0m\u001B[0;34m(\u001B[0m\u001B[0;34m\"https://rucio.srcdev.skao.int/auth/oidc_redirect?{}\"\u001B[0m\u001B[0;34m.\u001B[0m\u001B[0mformat\u001B[0m\u001B[0;34m(\u001B[0m\u001B[0mauth_code\u001B[0m\u001B[0;34m)\u001B[0m\u001B[0;34m,\u001B[0m \u001B[0mheaders\u001B[0m\u001B[0;34m=\u001B[0m\u001B[0;34m{\u001B[0m\u001B[0;34m\"X-Rucio-Client-Fetch-Token\"\u001B[0m\u001B[0;34m:\u001B[0m \u001B[0;34m\"True\"\u001B[0m\u001B[0;34m}\u001B[0m\u001B[0;34m)\u001B[0m\u001B[0;34m\u001B[0m\u001B[0;34m\u001B[0m\u001B[0m\n\u001B[0;32m----> 8\u001B[0;31m \u001B[0maccess_token\u001B[0m \u001B[0;34m=\u001B[0m \u001B[0mresponse\u001B[0m\u001B[0;34m.\u001B[0m\u001B[0mheaders\u001B[0m\u001B[0;34m[\u001B[0m\u001B[0;34m'X-Rucio-Auth-Token'\u001B[0m\u001B[0;34m]\u001B[0m\u001B[0;34m\u001B[0m\u001B[0;34m\u001B[0m\u001B[0m\n\u001B[0m",
      "\u001B[0;32m~/.local/lib/python3.8/site-packages/requests/structures.py\u001B[0m in \u001B[0;36m__getitem__\u001B[0;34m(self, key)\u001B[0m\n\u001B[1;32m     52\u001B[0m \u001B[0;34m\u001B[0m\u001B[0m\n\u001B[1;32m     53\u001B[0m     \u001B[0;32mdef\u001B[0m \u001B[0m__getitem__\u001B[0m\u001B[0;34m(\u001B[0m\u001B[0mself\u001B[0m\u001B[0;34m,\u001B[0m \u001B[0mkey\u001B[0m\u001B[0;34m)\u001B[0m\u001B[0;34m:\u001B[0m\u001B[0;34m\u001B[0m\u001B[0;34m\u001B[0m\u001B[0m\n\u001B[0;32m---> 54\u001B[0;31m         \u001B[0;32mreturn\u001B[0m \u001B[0mself\u001B[0m\u001B[0;34m.\u001B[0m\u001B[0m_store\u001B[0m\u001B[0;34m[\u001B[0m\u001B[0mkey\u001B[0m\u001B[0;34m.\u001B[0m\u001B[0mlower\u001B[0m\u001B[0;34m(\u001B[0m\u001B[0;34m)\u001B[0m\u001B[0;34m]\u001B[0m\u001B[0;34m[\u001B[0m\u001B[0;36m1\u001B[0m\u001B[0;34m]\u001B[0m\u001B[0;34m\u001B[0m\u001B[0;34m\u001B[0m\u001B[0m\n\u001B[0m\u001B[1;32m     55\u001B[0m \u001B[0;34m\u001B[0m\u001B[0m\n\u001B[1;32m     56\u001B[0m     \u001B[0;32mdef\u001B[0m \u001B[0m__delitem__\u001B[0m\u001B[0;34m(\u001B[0m\u001B[0mself\u001B[0m\u001B[0;34m,\u001B[0m \u001B[0mkey\u001B[0m\u001B[0;34m)\u001B[0m\u001B[0;34m:\u001B[0m\u001B[0;34m\u001B[0m\u001B[0;34m\u001B[0m\u001B[0m\n",
      "\u001B[0;31mKeyError\u001B[0m: 'x-rucio-auth-token'"
     ]
    }
   ],
   "source": [
    "import requests\n",
    "\n",
    "response = requests.get(\"https://rucio.srcdev.skao.int/auth/oidc\")\n",
    "auth_url = response.headers['X-Rucio-OIDC-Auth-URL']\n",
    "print(\"Please go to {}, authenticate and paste the authorisation code below:\".format(auth_url))\n",
    "auth_code = input()\n",
    "response = requests.get(\"https://rucio.srcdev.skao.int/auth/oidc_redirect?{}\".format(auth_code), headers={\"X-Rucio-Client-Fetch-Token\": \"True\"}) \n",
    "access_token = response.headers['X-Rucio-Auth-Token']"
   ]
  },
  {
   "cell_type": "markdown",
   "id": "e4ebffe1-7dd3-408d-993f-023733e9078e",
   "metadata": {},
   "source": [
    "## Access the data\n",
    "\n",
    "In this case, we will just download the data using the access token and access url retrieved in the previous steps."
   ]
  },
  {
   "cell_type": "code",
   "execution_count": 9,
   "id": "68382c69-25d7-4121-bd15-8af093a7b4f1",
   "metadata": {},
   "outputs": [
    {
     "name": "stdout",
     "output_type": "stream",
     "text": [
      "29691KB downloaded\r"
     ]
    },
    {
     "ename": "KeyboardInterrupt",
     "evalue": "",
     "output_type": "error",
     "traceback": [
      "\u001B[0;31m---------------------------------------------------------------------------\u001B[0m",
      "\u001B[0;31mKeyboardInterrupt\u001B[0m                         Traceback (most recent call last)",
      "\u001B[0;32m/tmp/ipykernel_70107/240441306.py\u001B[0m in \u001B[0;36m<module>\u001B[0;34m\u001B[0m\n\u001B[1;32m     14\u001B[0m             \u001B[0mprint\u001B[0m\u001B[0;34m(\u001B[0m\u001B[0;34m\"{}KB downloaded\"\u001B[0m\u001B[0;34m.\u001B[0m\u001B[0mformat\u001B[0m\u001B[0;34m(\u001B[0m\u001B[0mround\u001B[0m\u001B[0;34m(\u001B[0m\u001B[0mos\u001B[0m\u001B[0;34m.\u001B[0m\u001B[0mpath\u001B[0m\u001B[0;34m.\u001B[0m\u001B[0mgetsize\u001B[0m\u001B[0;34m(\u001B[0m\u001B[0mname\u001B[0m\u001B[0;34m)\u001B[0m\u001B[0;34m/\u001B[0m\u001B[0;36m1024\u001B[0m\u001B[0;34m)\u001B[0m\u001B[0;34m,\u001B[0m \u001B[0;36m0\u001B[0m\u001B[0;34m)\u001B[0m\u001B[0;34m,\u001B[0m \u001B[0mend\u001B[0m\u001B[0;34m=\u001B[0m\u001B[0;34m'\\r'\u001B[0m\u001B[0;34m)\u001B[0m\u001B[0;34m\u001B[0m\u001B[0;34m\u001B[0m\u001B[0m\n\u001B[1;32m     15\u001B[0m             \u001B[0mf\u001B[0m\u001B[0;34m.\u001B[0m\u001B[0mwrite\u001B[0m\u001B[0;34m(\u001B[0m\u001B[0mchunk\u001B[0m\u001B[0;34m)\u001B[0m\u001B[0;34m\u001B[0m\u001B[0;34m\u001B[0m\u001B[0m\n\u001B[0;32m---> 16\u001B[0;31m             \u001B[0mf\u001B[0m\u001B[0;34m.\u001B[0m\u001B[0mflush\u001B[0m\u001B[0;34m(\u001B[0m\u001B[0;34m)\u001B[0m\u001B[0;34m\u001B[0m\u001B[0;34m\u001B[0m\u001B[0m\n\u001B[0m\u001B[1;32m     17\u001B[0m     \u001B[0mprint\u001B[0m\u001B[0;34m(\u001B[0m\u001B[0;34m'\\n'\u001B[0m\u001B[0;34m)\u001B[0m\u001B[0;34m\u001B[0m\u001B[0;34m\u001B[0m\u001B[0m\n\u001B[1;32m     18\u001B[0m \u001B[0;34m\u001B[0m\u001B[0m\n",
      "\u001B[0;31mKeyboardInterrupt\u001B[0m: "
     ]
    }
   ],
   "source": [
    "import os\n",
    "\n",
    "from astropy.io import fits\n",
    "import pylab as plt\n",
    "from matplotlib.colors import LogNorm\n",
    "\n",
    "headers = {'Authorization': 'Bearer {}'.format(access_token)}\n",
    "\n",
    "response = requests.get(access_url, headers=headers, stream=True)\n",
    "if response.status_code == 200:\n",
    "    with open(name, \"wb\") as f:\n",
    "        for chunk in response.iter_content(chunk_size=1024):\n",
    "            print(\"{}KB downloaded\".format(round(os.path.getsize(name)/1024), 0), end='\\r')\n",
    "            f.write(chunk)\n",
    "            f.flush()\n",
    "    print('\\n')\n",
    "\n",
    "    fits.info(name)\n",
    "\n",
    "    image_data = fits.getdata(name, ext=0)\n",
    "\n",
    "    plt.figure()\n",
    "    plt.imshow(image_data[750:1200,1000:1500], cmap='gray', norm=LogNorm(vmin=100, vmax=1000))\n",
    "    plt.colorbar()\n",
    "    plt.show()\n",
    "else:\n",
    "    print(\"error getting data: {}\".format(response.status_code))\n",
    "\n"
   ]
  }
 ],
 "metadata": {
  "kernelspec": {
   "display_name": "Python 3 (ipykernel)",
   "language": "python",
   "name": "python3"
  },
  "language_info": {
   "codemirror_mode": {
    "name": "ipython",
    "version": 3
   },
   "file_extension": ".py",
   "mimetype": "text/x-python",
   "name": "python",
   "nbconvert_exporter": "python",
   "pygments_lexer": "ipython3",
   "version": "3.10.6"
  }
 },
 "nbformat": 4,
 "nbformat_minor": 5
}
