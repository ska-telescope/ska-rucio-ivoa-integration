{
 "cells": [
  {
   "cell_type": "code",
   "execution_count": null,
   "id": "ed9629f6-7059-4ec2-af3d-b7ce53cd8d34",
   "metadata": {},
   "outputs": [],
   "source": [
    "from pyvo.dal import tap \n",
    "skao = tap.TAPService(\"http://dachs:8080/__system__/tap/run\")\n",
    "\n",
    "sql = \"select obs_id, calib_level from ivoa.obscore\"\n",
    "results = skao.run_sync(sql)\n",
    "print(results)"
   ]
  },
  {
   "cell_type": "code",
   "execution_count": 11,
   "id": "3910b383-4532-4e8a-97f8-93fc6193b0ec",
   "metadata": {},
   "outputs": [],
   "source": [
    "import os\n",
    "\n",
    "import psycopg2\n",
    "\n",
    "try:\n",
    "    with psycopg2.connect(\"dbname='metadata' user='postgres' host='postgres-metadata'\") as conn:\n",
    "        with conn.cursor() as cur:\n",
    "            cur.execute(\"INSERT INTO rucio.dids (vo, scope, name, data) VALUES ('def', 'test', 'name_6', '{\\\"obs_id\\\": \\\"id_6\\\", \\\"calib_level\\\": 0, \\\"obs_collection\\\": \\\"collection_6\\\", \\\"obs_publisher_did\\\": \\\"publisher_did_6\\\"}'::jsonb);\")\n",
    "            \n",
    "except Exception as e:\n",
    "    print(e)"
   ]
  }
 ],
 "metadata": {
  "kernelspec": {
   "display_name": "Python 3 (ipykernel)",
   "language": "python",
   "name": "python3"
  },
  "language_info": {
   "codemirror_mode": {
    "name": "ipython",
    "version": 3
   },
   "file_extension": ".py",
   "mimetype": "text/x-python",
   "name": "python",
   "nbconvert_exporter": "python",
   "pygments_lexer": "ipython3",
   "version": "3.10.6"
  }
 },
 "nbformat": 4,
 "nbformat_minor": 5
}
