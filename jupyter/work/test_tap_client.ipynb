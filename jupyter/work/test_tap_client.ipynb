{
 "cells": [
  {
   "cell_type": "code",
   "execution_count": 1,
   "id": "ed9629f6-7059-4ec2-af3d-b7ce53cd8d34",
   "metadata": {},
   "outputs": [
    {
     "name": "stdout",
     "output_type": "stream",
     "text": [
      "<Table length=5>\n",
      "obs_id calib_level\n",
      "object    int32   \n",
      "------ -----------\n",
      "  id_1           0\n",
      "  id_2           1\n",
      "  id_3           2\n",
      "  id_4           3\n",
      "  id_5           4\n"
     ]
    }
   ],
   "source": [
    "from pyvo.dal import tap \n",
    "skao = tap.TAPService(\"http://tomcat:8080/tapserver/tap\")\n",
    "\n",
    "sql = \"select obs_id, calib_level from ivoa.obscore\"\n",
    "results = skao.run_sync(sql)\n",
    "print(results)"
   ]
  },
  {
   "cell_type": "code",
   "execution_count": null,
   "id": "f4a62dc2-f0c2-45d8-99b0-32b0907b6ff5",
   "metadata": {},
   "outputs": [],
   "source": []
  }
 ],
 "metadata": {
  "kernelspec": {
   "display_name": "Python 3 (ipykernel)",
   "language": "python",
   "name": "python3"
  },
  "language_info": {
   "codemirror_mode": {
    "name": "ipython",
    "version": 3
   },
   "file_extension": ".py",
   "mimetype": "text/x-python",
   "name": "python",
   "nbconvert_exporter": "python",
   "pygments_lexer": "ipython3",
   "version": "3.10.6"
  }
 },
 "nbformat": 4,
 "nbformat_minor": 5
}
