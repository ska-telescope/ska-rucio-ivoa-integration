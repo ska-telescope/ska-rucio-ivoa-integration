{
 "cells": [
  {
   "cell_type": "markdown",
   "id": "ed0eb8a7-bcf6-4c10-9691-480cd11ad7fd",
   "metadata": {},
   "source": [
    "# Test discovery and data access using DaCHS and a standalone Datalink service"
   ]
  },
  {
   "cell_type": "markdown",
   "source": [
    "## Description\n",
    "\n",
    "This notebook illustrates example data discovery via an IVOA simple cone search (SCS) [1] through to OIDC authentication and access (download) using real data in datalake.\n",
    "\n",
    "As part of the discovery process, an `access_url` pointing to an IVOA Datalink service [2] is used to reveal physical data locations to the client. This datalink service talks to Rucio via its api, and in its default mode (`nearest_by_client`) gets the nearest replica location by calculating the shortest available great circle distance between the geolocated client's ip and the sites holding replicas. Alternatively, it is possible to get a random replica by adding the query parameter `sort=random` to the datalink query url.\n",
    "\n",
    "Site information (lat/long) is retrieved by calls to a [site-directory](https://gitlab.com/ska-telescope/src/src-site-directory/-/tree/main/src/site_directory) api.\n",
    "\n",
    "[1] [https://www.ivoa.net/documents/latest/ConeSearch.html](https://www.ivoa.net/documents/latest/ConeSearch.html)\n",
    "[2] [https://www.ivoa.net/documents/DataLink/](https://www.ivoa.net/documents/latest/ConeSearch.html)"
   ],
   "metadata": {
    "collapsed": false
   }
  },
  {
   "cell_type": "markdown",
   "source": [
    "## Prerequisites\n",
    "\n",
    "1. It is assumed that the entry to search for has already had a corresponding record added into the Rucio metadata database. This entry must have valid `s_ra`, `s_dec` and `access_url` fields in the JSON data column, where the `access_url` points to a datalink resource with the did as the `id` parameter, e.g. `http://rucio_datalink:10000/links?id=testing:PTF10tce.fits`. Note that the datalink service uri must be resolvable from the machine that is making the query. If using this prototype, this is probably a jupyter instance running inside another container on the same docker network, in which case it must be the container name. If running a separate jupyter instance from outside the docker network, the datalink service must be made externally accessible (unless running from the host of the docker network, in which case you can expose the datalink port & use `localhost`).\n",
    "\n",
    "2. An instance of site-directory must be running in order to use the datalink service in `nearest_by_client` mode.\n",
    "3. The user must have a valid account on the Rucio datalake.\n",
    "\n"
   ],
   "metadata": {
    "collapsed": false
   }
  },
  {
   "cell_type": "markdown",
   "id": "e408f8ad-1b0e-419c-9935-e3d603ba38d3",
   "metadata": {},
   "source": [
    "## Query a DaCHS SCS service around some coordinates"
   ]
  },
  {
   "cell_type": "code",
   "execution_count": null,
   "id": "ed9629f6-7059-4ec2-af3d-b7ce53cd8d34",
   "metadata": {
    "tags": []
   },
   "outputs": [],
   "source": [
    "from pyvo.dal import conesearch\n",
    "\n",
    "# PTF10tce (ra: 349.791, dec: 9.196)\n",
    "results = conesearch(\"http://dachs:8080/rucio/rucio/cone/scs.xml\", pos=(350, 9), radius=1)\n",
    "results.to_table()['_r', 'obs_id', 's_ra', 's_dec', 'access_url', 'access_format']"
   ]
  },
  {
   "cell_type": "markdown",
   "id": "04c4002f-e467-4b96-ae0b-77445c513f95",
   "metadata": {},
   "source": [
    "## Get an access url from the Datalink resource\n",
    "\n",
    "This datalink resource retrieves the list of possible replicas for this DID using Rucio's REST interface, and returns the nearest replica to the client's geolocated IP address."
   ]
  },
  {
   "cell_type": "code",
   "execution_count": null,
   "id": "9e58370a-1021-4007-9c98-e1b3ac9e263b",
   "metadata": {},
   "outputs": [],
   "source": [
    "from pyvo.dal.adhoc import DatalinkResults\n",
    "\n",
    "# use first result\n",
    "result = results[0]\n",
    "\n",
    "# get the datalink access url for this first result\n",
    "datalink_access_url = result['access_url']\n",
    "\n",
    "# go get the information from the datalink service (we explicitly state a client IP address, otherwise it tries to resolve localhost)\n",
    "datalink = DatalinkResults.from_result_url(\"{}&client_ip_address=130.246.210.120\".format(datalink_access_url))  # + \"&ranking=1\"\n",
    "\n",
    "# take the link with semantic \"#this\"\n",
    "this = next(datalink.bysemantics(\"#this\"))\n",
    "\n",
    "# get the physical file path (on storage) from this link\n",
    "access_url = this.access_url\n",
    "did = result['obs_id']\n",
    "scope, name = did.split(':')\n",
    "\n",
    "access_url"
   ]
  },
  {
   "cell_type": "markdown",
   "id": "982e62ba-772d-4e81-b42b-3bcb877d01e7",
   "metadata": {},
   "source": [
    "## Get an access token for the Rucio \"auth\" OIDC client\n",
    "\n",
    "This process follows an interactive OIDC `authorization_code` flow. The resulting token will be used to directly contact the storage endpoint."
   ]
  },
  {
   "cell_type": "code",
   "execution_count": null,
   "id": "1796602c-71f9-47b7-a67a-4e8b15631c3e",
   "metadata": {},
   "outputs": [],
   "source": [
    "import requests\n",
    "\n",
    "response = requests.get(\"https://srcdev.skatelescope.org/rucio-dev/auth/oidc\")\n",
    "auth_url = response.headers['X-Rucio-OIDC-Auth-URL']\n",
    "print(\"Please go to {}, authenticate and paste the authorisation code below:\".format(auth_url))\n",
    "auth_code = input()\n",
    "response = requests.get(\"https://srcdev.skatelescope.org/rucio-dev/auth/oidc_redirect?{}\".format(auth_code), headers={\"X-Rucio-Client-Fetch-Token\": \"True\"}) \n",
    "access_token = response.headers['X-Rucio-Auth-Token']"
   ]
  },
  {
   "cell_type": "markdown",
   "id": "e4ebffe1-7dd3-408d-993f-023733e9078e",
   "metadata": {},
   "source": [
    "## Access the data\n",
    "\n",
    "In this case, we will just download the data using the access token and access url retrieved in the previous steps."
   ]
  },
  {
   "cell_type": "code",
   "execution_count": null,
   "id": "68382c69-25d7-4121-bd15-8af093a7b4f1",
   "metadata": {},
   "outputs": [],
   "source": [
    "import os\n",
    "\n",
    "from astropy.io import fits\n",
    "import pylab as plt\n",
    "from matplotlib.colors import LogNorm\n",
    "\n",
    "headers = {'Authorization': 'Bearer {}'.format(access_token)}\n",
    "\n",
    "response = requests.get(access_url, headers=headers, stream=True)\n",
    "with open(name, \"wb\") as f:\n",
    "    for chunk in response.iter_content(chunk_size=1024):\n",
    "        print(\"{}KB downloaded\".format(round(os.path.getsize(name)/1024), 0), end='\\r')\n",
    "        f.write(chunk)\n",
    "        f.flush()\n",
    "print('\\n')\n",
    "\n",
    "fits.info(name)\n",
    "\n",
    "image_data = fits.getdata(name, ext=0)\n",
    "\n",
    "plt.figure()\n",
    "plt.imshow(image_data[750:1200,1000:1500], cmap='gray', norm=LogNorm(vmin=100, vmax=1000))\n",
    "plt.colorbar()\n",
    "plt.show()"
   ]
  }
 ],
 "metadata": {
  "kernelspec": {
   "display_name": "Python 3 (ipykernel)",
   "language": "python",
   "name": "python3"
  },
  "language_info": {
   "codemirror_mode": {
    "name": "ipython",
    "version": 3
   },
   "file_extension": ".py",
   "mimetype": "text/x-python",
   "name": "python",
   "nbconvert_exporter": "python",
   "pygments_lexer": "ipython3",
   "version": "3.10.6"
  }
 },
 "nbformat": 4,
 "nbformat_minor": 5
}
