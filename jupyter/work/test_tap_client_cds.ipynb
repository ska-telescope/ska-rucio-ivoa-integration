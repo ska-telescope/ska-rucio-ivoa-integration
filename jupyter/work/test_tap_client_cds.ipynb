{
 "cells": [
  {
   "cell_type": "code",
   "execution_count": null,
   "id": "ed9629f6-7059-4ec2-af3d-b7ce53cd8d34",
   "metadata": {
    "pycharm": {
     "is_executing": true
    }
   },
   "outputs": [],
   "source": [
    "from pyvo.dal import tap \n",
    "skao = tap.TAPService(\"http://tomcat-tap:8080/tapserver/tap\")\n",
    "\n",
    "sql = \"select rucio_did_scope, rucio_did_name, obs_id, calib_level from ivoa.obscore\"\n",
    "results = skao.run_sync(sql)\n",
    "print(results)"
   ]
  }
 ],
 "metadata": {
  "kernelspec": {
   "display_name": "Python 3 (ipykernel)",
   "language": "python",
   "name": "python3"
  },
  "language_info": {
   "codemirror_mode": {
    "name": "ipython",
    "version": 3
   },
   "file_extension": ".py",
   "mimetype": "text/x-python",
   "name": "python",
   "nbconvert_exporter": "python",
   "pygments_lexer": "ipython3",
   "version": "3.10.6"
  }
 },
 "nbformat": 4,
 "nbformat_minor": 5
}
